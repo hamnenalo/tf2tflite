{
  "nbformat": 4,
  "nbformat_minor": 0,
  "metadata": {
    "orig_nbformat": 4,
    "language_info": {
      "name": "python",
      "version": "3.7.6",
      "mimetype": "text/x-python",
      "codemirror_mode": {
        "name": "ipython",
        "version": 3
      },
      "pygments_lexer": "ipython3",
      "nbconvert_exporter": "python",
      "file_extension": ".py"
    },
    "kernelspec": {
      "name": "python3",
      "display_name": "Python 3.7.6 64-bit ('kaoon': venv)"
    },
    "interpreter": {
      "hash": "695239d6121050fe658a285d3eddc2aa2dba836df8025f4e5fc08023da28a787"
    },
    "colab": {
      "provenance": []
    }
  },
  "cells": [
    {
      "cell_type": "markdown",
      "metadata": {
        "id": "gowd0Ryg8Vaa"
      },
      "source": [
        "Convert TF2(Keras)2TFLite"
      ]
    },
    {
      "cell_type": "code",
      "metadata": {
        "id": "3SjjqYZS8Vac"
      },
      "source": [
        "import tensorflow as tf"
      ],
      "execution_count": null,
      "outputs": []
    },
    {
      "cell_type": "code",
      "metadata": {
        "id": "eJLKFpiX8Vad"
      },
      "source": [
        "TFLITE_MODEL_NAME = \"model.tflite\""
      ],
      "execution_count": null,
      "outputs": []
    },
    {
      "cell_type": "code",
      "metadata": {
        "id": "q2R13YEO8Vad"
      },
      "source": [
        "# Load TFModel\n",
        "model = tf.keras.models.load_model(\"./model.h5\")"
      ],
      "execution_count": null,
      "outputs": []
    },
    {
      "cell_type": "code",
      "metadata": {
        "id": "1q5kn7Fs8Vad"
      },
      "source": [
        "# Setting convert option\n",
        "converter = tf.lite.TFLiteConverter.from_keras_model(model)\n",
        "converter.optimizations = [tf.lite.Optimize.DEFAULT]\n",
        "converter.target_spec.supported_types = [tf.float16]"
      ],
      "execution_count": null,
      "outputs": []
    },
    {
      "cell_type": "code",
      "metadata": {
        "id": "MoH1TrSF8nZR"
      },
      "source": [
        "# Convert TFLite\n",
        "tflite_model = converter.convert()"
      ],
      "execution_count": null,
      "outputs": []
    },
    {
      "cell_type": "code",
      "metadata": {
        "id": "_UqDVuvV8ohp"
      },
      "source": [
        "# Write TFLite Model\n",
        "open(TFLITE_MODEL_NAME, \"wb\").write(tflite_model)"
      ],
      "execution_count": null,
      "outputs": []
    },
    {
      "cell_type": "code",
      "metadata": {
        "id": "CM6UGXJa_JkO"
      },
      "source": [],
      "execution_count": null,
      "outputs": []
    }
  ]
}